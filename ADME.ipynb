{
 "cells": [
  {
   "cell_type": "code",
   "execution_count": null,
   "id": "a2f642fe",
   "metadata": {},
   "outputs": [],
   "source": [
    "import pandas as pd\n",
    "from sklearn.model_selection import train_test_split\n",
    "from sklearn.ensemble import RandomForestRegressor\n",
    "from sklearn.metrics import mean_squared_error, r2_score\n",
    "\n",
    "# Load the descriptor data\n",
    "df = pd.read_csv(\"drug_descriptors.csv\")\n",
    "\n",
    "# Check the first few rows\n",
    "df.head()\n",
    "\n",
    "# 'MolecularWeight' and 'LogP' affect bioavailability\n",
    "# Create a synthetic 'Oral_Bioavailability' feature for the example\n",
    "df['Oral_Bioavailability'] = df['LogP'] * 0.2 + df['MolecularWeight'] * 0.1  # Simple synthetic rule\n",
    "\n",
    "# Features: Molecular descriptors\n",
    "X = df[['MolecularWeight', 'LogP', 'NumHDonors', 'NumHAcceptors']]\n",
    "\n",
    "# Target: Oral Bioavailability (synthetic)\n",
    "y = df['Oral_Bioavailability']\n",
    "\n",
    "# Split data into training and testing sets\n",
    "X_train, X_test, y_train, y_test = train_test_split(X, y, test_size=0.3, random_state=42)\n",
    "\n",
    "# Initialize the Random Forest Regressor\n",
    "regressor = RandomForestRegressor(n_estimators=100, random_state=42)\n",
    "\n",
    "# Train the model\n",
    "regressor.fit(X_train, y_train)\n",
    "\n",
    "# Predict on the test set\n",
    "y_pred = regressor.predict(X_test)\n",
    "\n",
    "# Evaluate the model\n",
    "print(f\"Mean Squared Error: {mean_squared_error(y_test, y_pred)}\")\n",
    "print(f\"R-squared: {r2_score(y_test, y_pred)}\")\n",
    "import joblib\n",
    "\n",
    "# Save the trained RandomForest model\n",
    "joblib.dump(regressor, 'random_forest_bioavailability_model.joblib')\n",
    "print(\"Model saved!\")"
   ]
  },
  {
   "cell_type": "code",
   "execution_count": null,
   "id": "158b6230",
   "metadata": {},
   "outputs": [],
   "source": []
  }
 ],
 "metadata": {
  "kernelspec": {
   "display_name": "Python 3 (ipykernel)",
   "language": "python",
   "name": "python3"
  },
  "language_info": {
   "codemirror_mode": {
    "name": "ipython",
    "version": 3
   },
   "file_extension": ".py",
   "mimetype": "text/x-python",
   "name": "python",
   "nbconvert_exporter": "python",
   "pygments_lexer": "ipython3",
   "version": "3.11.7"
  }
 },
 "nbformat": 4,
 "nbformat_minor": 5
}
