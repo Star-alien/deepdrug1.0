{
 "cells": [
  {
   "cell_type": "code",
   "execution_count": 2,
   "id": "f4b022a4",
   "metadata": {},
   "outputs": [
    {
     "name": "stderr",
     "output_type": "stream",
     "text": [
      "[23:00:37] The 2 defining bonds for an atropisomer are co-planar - atoms are: 4 10\n",
      "[23:00:37] Explicit valence for atom # 3 Cl, 2, is greater than permitted\n",
      "[23:00:37] ERROR: Could not sanitize molecule ending on line 21572\n",
      "[23:00:37] ERROR: Explicit valence for atom # 3 Cl, 2, is greater than permitted\n",
      "[23:00:46] Warning: ambiguous stereochemistry - opposing bonds have opposite wedging - at atom 1 ignored.\n",
      "[23:00:46] Warning: ambiguous stereochemistry - opposing bonds have opposite wedging - at atom 1 ignored.\n",
      "[23:00:46] Warning: ambiguous stereochemistry - opposing bonds have opposite wedging - at atom 6 ignored.\n",
      "[23:00:46] Warning: ambiguous stereochemistry - opposing bonds have opposite wedging - at atom 6 ignored.\n",
      "[23:00:46] The 2 defining bonds for an atropisomer are co-planar - atoms are: 4 10\n",
      "[23:00:53] Explicit valence for atom # 2 Si, 8, is greater than permitted\n",
      "[23:00:53] ERROR: Could not sanitize molecule ending on line 346021\n",
      "[23:00:53] ERROR: Explicit valence for atom # 2 Si, 8, is greater than permitted\n",
      "[23:00:57] Explicit valence for atom # 3 Cl, 2, is greater than permitted\n",
      "[23:00:57] ERROR: Could not sanitize molecule ending on line 446665\n",
      "[23:00:57] ERROR: Explicit valence for atom # 3 Cl, 2, is greater than permitted\n",
      "[23:00:57] The 2 defining bonds for an atropisomer are co-planar - atoms are: 4 10\n",
      "[23:01:03] Explicit valence for atom # 1 Cl, 2, is greater than permitted\n",
      "[23:01:03] ERROR: Could not sanitize molecule ending on line 619150\n",
      "[23:01:03] ERROR: Explicit valence for atom # 1 Cl, 2, is greater than permitted\n",
      "[23:01:05] WARNING: not removing hydrogen atom without neighbors\n",
      "[23:01:10] Explicit valence for atom # 2 Si, 8, is greater than permitted\n",
      "[23:01:10] ERROR: Could not sanitize molecule ending on line 810094\n",
      "[23:01:10] ERROR: Explicit valence for atom # 2 Si, 8, is greater than permitted\n"
     ]
    },
    {
     "name": "stdout",
     "output_type": "stream",
     "text": [
      "                                              SMILES  MolecularWeight  \\\n",
      "0  C[n+]1c2cc(N)ccc2cc2ccc(N)cc21.Nc1ccc2cc3ccc(N...          468.992   \n",
      "1  O=C([O-])c1ccccc1-c1c2cc(Br)c(=O)c(Br)c-2oc2c(...          691.859   \n",
      "2  CO[C@@H]1[C@@H](OC)[C@H](C)[C@@](O)(CC(=O)[O-]...          934.171   \n",
      "3  CN(C)c1ccc(C(=C2C=CC(=[N+](C)C)C=C2)c2ccccc2)c...          927.020   \n",
      "4  CC(=O)O.CCNC(=O)[C@@H]1CCCN1C(=O)[C@H](CCCNC(=...         1342.527   \n",
      "\n",
      "      LogP  NumHDonors  NumHAcceptors    ToxicityLabel  \n",
      "0  1.53830           4              5  NCGC00178831-03  \n",
      "1 -0.94010           0              5  NCGC00166114-03  \n",
      "2  3.35840           4             17  NCGC00263563-01  \n",
      "3  3.58460           4             10  NCGC00013058-02  \n",
      "4 -0.45963          18             15  NCGC00167516-01  \n"
     ]
    }
   ],
   "source": [
    "from rdkit import Chem\n",
    "from rdkit.Chem import PandasTools, Descriptors\n",
    "import pandas as pd\n",
    "\n",
    "# Path to the SDF file\n",
    "sdf_path = r\"C:\\Users\\avani\\Downloads\\tox21_10k_data_all.sdf (1)\\tox21_10k_data_all.sdf\"\n",
    "\n",
    "# Load the SDF file\n",
    "supplier = Chem.SDMolSupplier(sdf_path)\n",
    "\n",
    "# Initialize lists to hold molecule data\n",
    "molecule_data = []\n",
    "\n",
    "# Iterate through molecules\n",
    "for mol in supplier:\n",
    "    if mol is None:\n",
    "        continue  # Skip invalid molecules\n",
    "\n",
    "    # Extract SMILES, molecule descriptors, and toxicity labels\n",
    "    smiles = Chem.MolToSmiles(mol)\n",
    "    molecular_weight = Descriptors.MolWt(mol)\n",
    "    logp = Descriptors.MolLogP(mol)\n",
    "    h_donors = Descriptors.NumHDonors(mol)\n",
    "    h_acceptors = Descriptors.NumHAcceptors(mol)\n",
    "\n",
    "    # Extract toxicity labels from molecule properties\n",
    "    toxicity_label = mol.GetProp(\"_Name\") if mol.HasProp(\"_Name\") else None  # Example label extraction\n",
    "\n",
    "    # Append the data\n",
    "    molecule_data.append({\n",
    "        \"SMILES\": smiles,\n",
    "        \"MolecularWeight\": molecular_weight,\n",
    "        \"LogP\": logp,\n",
    "        \"NumHDonors\": h_donors,\n",
    "        \"NumHAcceptors\": h_acceptors,\n",
    "        \"ToxicityLabel\": toxicity_label\n",
    "    })\n",
    "\n",
    "# Convert to a DataFrame for easier handling\n",
    "df = pd.DataFrame(molecule_data)\n",
    "\n",
    "# Display the first few rows\n",
    "print(df.head())\n"
   ]
  },
  {
   "cell_type": "code",
   "execution_count": 3,
   "id": "d29b9c5b",
   "metadata": {},
   "outputs": [
    {
     "name": "stdout",
     "output_type": "stream",
     "text": [
      "                                              SMILES  MolecularWeight  \\\n",
      "0  C[n+]1c2cc(N)ccc2cc2ccc(N)cc21.Nc1ccc2cc3ccc(N...          468.992   \n",
      "1  O=C([O-])c1ccccc1-c1c2cc(Br)c(=O)c(Br)c-2oc2c(...          691.859   \n",
      "2  CO[C@@H]1[C@@H](OC)[C@H](C)[C@@](O)(CC(=O)[O-]...          934.171   \n",
      "3  CN(C)c1ccc(C(=C2C=CC(=[N+](C)C)C=C2)c2ccccc2)c...          927.020   \n",
      "4  CC(=O)O.CCNC(=O)[C@@H]1CCCN1C(=O)[C@H](CCCNC(=...         1342.527   \n",
      "\n",
      "      LogP  NumHDonors  NumHAcceptors  ToxicityLabel  \n",
      "0  1.53830           4              5              0  \n",
      "1 -0.94010           0              5              0  \n",
      "2  3.35840           4             17              0  \n",
      "3  3.58460           4             10              0  \n",
      "4 -0.45963          18             15              0  \n"
     ]
    }
   ],
   "source": [
    "# Example: Convert textual toxicity labels to binary values\n",
    "df['ToxicityLabel'] = df['ToxicityLabel'].apply(lambda x: 1 if x == \"toxic\" else 0)\n",
    "\n",
    "# Drop rows with missing data\n",
    "df.dropna(inplace=True)\n",
    "\n",
    "# Display the processed data\n",
    "print(df.head())\n"
   ]
  },
  {
   "cell_type": "code",
   "execution_count": null,
   "id": "beb5e37f",
   "metadata": {},
   "outputs": [],
   "source": [
    "from sklearn.model_selection import train_test_split\n",
    "from sklearn.ensemble import RandomForestClassifier\n",
    "from sklearn.metrics import classification_report, accuracy_score\n",
    "\n",
    "# Define features and target\n",
    "X = df[['MolecularWeight', 'LogP', 'NumHDonors', 'NumHAcceptors']]  # Features\n",
    "y = df['ToxicityLabel']  # Target\n",
    "\n",
    "# Split into training and testing sets\n",
    "X_train, X_test, y_train, y_test = train_test_split(X, y, test_size=0.3, random_state=42)\n",
    "\n",
    "# Initialize Random Forest Classifier\n",
    "clf = RandomForestClassifier(n_estimators=100, random_state=42)\n",
    "\n",
    "# Train the model\n",
    "clf.fit(X_train, y_train)\n",
    "\n",
    "# Predict on test data\n",
    "y_pred = clf.predict(X_test)\n",
    "\n",
    "# Evaluate the model\n",
    "print(f\"Accuracy: {accuracy_score(y_test, y_pred)}\")\n",
    "print(classification_report(y_test, y_pred))\n",
    "import joblib  # For saving and loading the model\n",
    "\n",
    "# Save the trained model\n",
    "joblib.dump(clf, 'random_forest_classifier_modeltoxicity.pkl')\n",
    "print(\"Model saved as 'random_forest_classifier_modeltoxicity.pkl'\")\n"
   ]
  },
  {
   "cell_type": "code",
   "execution_count": null,
   "id": "3db029a4",
   "metadata": {},
   "outputs": [],
   "source": []
  }
 ],
 "metadata": {
  "kernelspec": {
   "display_name": "Python 3 (ipykernel)",
   "language": "python",
   "name": "python3"
  },
  "language_info": {
   "codemirror_mode": {
    "name": "ipython",
    "version": 3
   },
   "file_extension": ".py",
   "mimetype": "text/x-python",
   "name": "python",
   "nbconvert_exporter": "python",
   "pygments_lexer": "ipython3",
   "version": "3.11.7"
  }
 },
 "nbformat": 4,
 "nbformat_minor": 5
}
